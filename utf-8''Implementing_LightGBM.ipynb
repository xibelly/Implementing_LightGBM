{
  "cells": [
    {
      "metadata": {
        "trusted": true
      },
      "cell_type": "code",
      "source": "#installing lightGBM\nimport sys\n!conda install -c conda-forge lightgbm --yes",
      "execution_count": 10,
      "outputs": [
        {
          "output_type": "stream",
          "text": "Fetching package metadata .............\nSolving package specifications: .\n\nPackage plan for installation in environment /home/nbuser/anaconda3_420:\n\nThe following NEW packages will be INSTALLED:\n\n    _libgcc_mutex: 0.1-main                         \n    lightgbm:      2.2.0-py35hfc679d8_0  conda-forge\n    readline:      7.0-ha6073c6_4                   \n    tbb:           2019.3-h2d50403_0     conda-forge\n    tbb4py:        2019.1-py35h2d50403_0 conda-forge\n\nThe following packages will be UPDATED:\n\n    conda:         4.3.31-py35_0                     --> 4.5.11-py35_0        conda-forge\n    pycosat:       0.6.1-py35_1                      --> 0.6.3-py35h470a237_1 conda-forge\n\nThe following packages will be SUPERSEDED by a higher-priority channel:\n\n    conda-env:     2.6.0-h36134e3_1                  --> 2.6.0-1              conda-forge\n\n_libgcc_mutex- 100% |################################| Time: 0:00:00   2.60 MB/s\nconda-env-2.6. 100% |################################| Time: 0:00:00   2.78 MB/s\ntbb-2019.3-h2d 100% |################################| Time: 0:00:00   5.58 MB/s\nreadline-7.0-h 100% |################################| Time: 0:00:00   2.53 MB/s\npycosat-0.6.3- 100% |################################| Time: 0:00:00   5.41 MB/s\ntbb4py-2019.1- 100% |################################| Time: 0:00:00   4.45 MB/s\nconda-4.5.11-p 100% |################################| Time: 0:00:00   4.67 MB/s\nlightgbm-2.2.0 100% |################################| Time: 0:00:00   6.09 MB/s\n",
          "name": "stdout"
        }
      ]
    },
    {
      "metadata": {
        "trusted": true
      },
      "cell_type": "code",
      "source": "#libraries\nimport lightgbm as lgb\nimport numpy as np\nimport matplotlib.pyplot as plt\nimport pandas as pd",
      "execution_count": 1,
      "outputs": []
    },
    {
      "metadata": {
        "trusted": true
      },
      "cell_type": "code",
      "source": "# Importing the dataset\ndataset = pd.read_csv('Social_Network_Ads.csv')\nX = dataset.iloc[:, [2, 3]].values   #only consider gender and EstimatedSalary variables\ny = dataset.iloc[:, 4].values        #only takes the Purchased\ndataset.head()",
      "execution_count": 2,
      "outputs": [
        {
          "output_type": "execute_result",
          "execution_count": 2,
          "data": {
            "text/html": "<div>\n<table border=\"1\" class=\"dataframe\">\n  <thead>\n    <tr style=\"text-align: right;\">\n      <th></th>\n      <th>User ID</th>\n      <th>Gender</th>\n      <th>Age</th>\n      <th>EstimatedSalary</th>\n      <th>Purchased</th>\n    </tr>\n  </thead>\n  <tbody>\n    <tr>\n      <th>0</th>\n      <td>15624510</td>\n      <td>Male</td>\n      <td>19</td>\n      <td>19000</td>\n      <td>0</td>\n    </tr>\n    <tr>\n      <th>1</th>\n      <td>15810944</td>\n      <td>Male</td>\n      <td>35</td>\n      <td>20000</td>\n      <td>0</td>\n    </tr>\n    <tr>\n      <th>2</th>\n      <td>15668575</td>\n      <td>Female</td>\n      <td>26</td>\n      <td>43000</td>\n      <td>0</td>\n    </tr>\n    <tr>\n      <th>3</th>\n      <td>15603246</td>\n      <td>Female</td>\n      <td>27</td>\n      <td>57000</td>\n      <td>0</td>\n    </tr>\n    <tr>\n      <th>4</th>\n      <td>15804002</td>\n      <td>Male</td>\n      <td>19</td>\n      <td>76000</td>\n      <td>0</td>\n    </tr>\n  </tbody>\n</table>\n</div>",
            "text/plain": "    User ID  Gender  Age  EstimatedSalary  Purchased\n0  15624510    Male   19            19000          0\n1  15810944    Male   35            20000          0\n2  15668575  Female   26            43000          0\n3  15603246  Female   27            57000          0\n4  15804002    Male   19            76000          0"
          },
          "metadata": {}
        }
      ]
    },
    {
      "metadata": {
        "trusted": true
      },
      "cell_type": "code",
      "source": "len(dataset)",
      "execution_count": 49,
      "outputs": [
        {
          "output_type": "execute_result",
          "execution_count": 49,
          "data": {
            "text/plain": "400"
          },
          "metadata": {}
        }
      ]
    },
    {
      "metadata": {
        "trusted": true
      },
      "cell_type": "code",
      "source": "# Splitting the dataset into the Training set and Test set\nfrom sklearn.cross_validation import train_test_split\nx_train, x_test, y_train, y_test = train_test_split(X, y, test_size = 0.25, random_state = 0)",
      "execution_count": 3,
      "outputs": [
        {
          "output_type": "stream",
          "text": "/home/nbuser/anaconda3_420/lib/python3.5/site-packages/sklearn/cross_validation.py:41: DeprecationWarning: This module was deprecated in version 0.18 in favor of the model_selection module into which all the refactored classes and functions are moved. Also note that the interface of the new CV iterators are different from that of this module. This module will be removed in 0.20.\n  \"This module will be removed in 0.20.\", DeprecationWarning)\n",
          "name": "stderr"
        }
      ]
    },
    {
      "metadata": {
        "trusted": true
      },
      "cell_type": "code",
      "source": "# Feature Scaling\n# We need to convert our training data into LightGBM dataset format\nfrom sklearn.preprocessing import StandardScaler\nsc = StandardScaler()\nx_train = sc.fit_transform(x_train)\nx_test = sc.transform(x_test)",
      "execution_count": 5,
      "outputs": [
        {
          "output_type": "stream",
          "text": "/home/nbuser/anaconda3_420/lib/python3.5/site-packages/sklearn/utils/validation.py:475: DataConversionWarning: Data with input dtype int64 was converted to float64 by StandardScaler.\n  warnings.warn(msg, DataConversionWarning)\n",
          "name": "stderr"
        }
      ]
    },
    {
      "metadata": {},
      "cell_type": "markdown",
      "source": "# Trainig the model GBM"
    },
    {
      "metadata": {
        "trusted": true
      },
      "cell_type": "code",
      "source": "# classification problem\n\n#Accuracy of your model totally depends on the values you provide to parameters.\n#model parametrs are given in a dictionary\n\nd_train = lgb.Dataset(x_train, label=y_train)\n\nparams = {}\nparams['learning_rate'] = 0.003\nparams['boosting_type'] = 'gbdt'                 #GB\nparams['objective'] = 'binary'                   #classification problem\nparams['metric'] = 'binary_logloss'\nparams['sub_feature'] = 0.5\nparams['num_leaves'] = 10\nparams['min_data'] = 50\nparams['max_depth'] = 10                         #10 for small data sets\n\nclf = lgb.train(params, d_train, 100)",
      "execution_count": 20,
      "outputs": []
    },
    {
      "metadata": {},
      "cell_type": "markdown",
      "source": "# Model prediction"
    },
    {
      "metadata": {
        "trusted": true
      },
      "cell_type": "code",
      "source": "# converted probabilities to binary prediction keeping threshold=0.5\n\n#Prediction\ny_pred=clf.predict(x_test)\ny_pred_f = np.empty([100])\n#convert into binary values\nfor i in range(0,99):\n    if y_pred[i]>=.5:       # setting threshold to .5\n       y_pred_f[i]=1\n    else:  \n       y_pred_f[i]=0\n",
      "execution_count": 34,
      "outputs": []
    },
    {
      "metadata": {},
      "cell_type": "markdown",
      "source": "# Confusion matrix to eveluate the model performance"
    },
    {
      "metadata": {
        "trusted": true
      },
      "cell_type": "code",
      "source": "#Confusion matrix\nfrom sklearn.metrics import confusion_matrix\nconfusion_matrix(y_test, y_pred_f)",
      "execution_count": 36,
      "outputs": [
        {
          "output_type": "execute_result",
          "execution_count": 36,
          "data": {
            "text/plain": "array([[68,  0],\n       [24,  8]])"
          },
          "metadata": {}
        }
      ]
    },
    {
      "metadata": {
        "trusted": true
      },
      "cell_type": "code",
      "source": "#Accuracy\nfrom sklearn.metrics import accuracy_score\naccuracy=accuracy_score(y_pred_f,y_test)\nprint(\"accu:\", accuracy * 100)\n\n#Precision\nfrom sklearn.metrics import precision_score\nprecision = precision_score(y_pred_f,y_test)\nprint(\"prec:\", precision * 100)\n\n#Recall\nfrom sklearn.metrics import recall_score\nrecall = recall_score(y_pred_f,y_test)\nprint(\"rec:\", recall * 100)",
      "execution_count": 39,
      "outputs": [
        {
          "output_type": "stream",
          "text": "accu: 76.0\nprec: 25.0\nrec: 100.0\n",
          "name": "stdout"
        }
      ]
    },
    {
      "metadata": {},
      "cell_type": "markdown",
      "source": "# ROC CURVE"
    },
    {
      "metadata": {
        "trusted": true
      },
      "cell_type": "code",
      "source": "from sklearn.metrics import roc_auc_score\n#ROC CURVE OVER THE PROBABILITIES\nroc_auc_score(y_test, y_pred_f)",
      "execution_count": 46,
      "outputs": [
        {
          "output_type": "execute_result",
          "execution_count": 46,
          "data": {
            "text/plain": "0.625"
          },
          "metadata": {}
        }
      ]
    },
    {
      "metadata": {
        "trusted": true
      },
      "cell_type": "code",
      "source": "%matplotlib inline\nimport matplotlib.pyplot as plt\nimport seaborn as sns\n\n\nsns.set()",
      "execution_count": 47,
      "outputs": []
    },
    {
      "metadata": {
        "trusted": true
      },
      "cell_type": "code",
      "source": "#Plotting the ROC curve\nfrom sklearn.metrics import roc_curve\n\nfpr, tpr, _ = roc_curve(y_test, y_pred_f)\nplt.plot(fpr, tpr)\nplt.plot([0, 1], [0, 1], color='grey', lw=1, linestyle='--')\nplt.xlabel('False Positive Rate')\nplt.ylabel('True Positive Rate')",
      "execution_count": 48,
      "outputs": [
        {
          "output_type": "execute_result",
          "execution_count": 48,
          "data": {
            "text/plain": "Text(0,0.5,'True Positive Rate')"
          },
          "metadata": {}
        },
        {
          "output_type": "display_data",
          "data": {
            "image/png": "[encoded data removed]",
            "text/plain": "<matplotlib.figure.Figure at 0x7fa0c6739e80>"
          },
          "metadata": {}
        }
      ]
    }
  ],
  "metadata": {
    "kernelspec": {
      "name": "python3",
      "display_name": "Python 3",
      "language": "python"
    },
    "language": "fsharp",
    "language_info": {
      "mimetype": "text/x-python",
      "nbconvert_exporter": "python",
      "name": "python",
      "pygments_lexer": "ipython3",
      "version": "3.5.4",
      "file_extension": ".py",
      "codemirror_mode": {
        "version": 3,
        "name": "ipython"
      }
    }
  },
  "nbformat": 4,
  "nbformat_minor": 2
}